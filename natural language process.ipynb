{
  "nbformat": 4,
  "nbformat_minor": 0,
  "metadata": {
    "colab": {
      "provenance": [],
      "authorship_tag": "ABX9TyOPEj494xS4g4WeRTWUoxNo",
      "include_colab_link": true
    },
    "kernelspec": {
      "name": "python3",
      "display_name": "Python 3"
    },
    "language_info": {
      "name": "python"
    }
  },
  "cells": [
    {
      "cell_type": "markdown",
      "metadata": {
        "id": "view-in-github",
        "colab_type": "text"
      },
      "source": [
        "<a href=\"https://colab.research.google.com/github/Sugandharkannan/Mechine_learning-_data_cleaning-/blob/main/natural%20language%20process.ipynb\" target=\"_parent\"><img src=\"https://colab.research.google.com/assets/colab-badge.svg\" alt=\"Open In Colab\"/></a>"
      ]
    },
    {
      "cell_type": "code",
      "execution_count": 1,
      "metadata": {
        "id": "g96A54iq7wI4"
      },
      "outputs": [],
      "source": [
        "# stop words : to remove the stop words from the english\n",
        "\n",
        "\n",
        "# importing libraries\n",
        "import nltk\n",
        "from nltk.corpus import stopwords\n",
        "from nltk.tokenize import word_tokenize"
      ]
    },
    {
      "cell_type": "code",
      "source": [
        "# import th data\n",
        "dataset =\"\"\" hello mr.sugandhar,how are you doing today ?\n",
        "            the wether is awwsome.the garden is green\n",
        "             weshould go out for a walk.\"\"\""
      ],
      "metadata": {
        "id": "Kyleh18p8q1v"
      },
      "execution_count": 8,
      "outputs": []
    },
    {
      "cell_type": "code",
      "source": [
        "nltk.download('stopwords')"
      ],
      "metadata": {
        "colab": {
          "base_uri": "https://localhost:8080/"
        },
        "id": "4AMmfFuG9KXK",
        "outputId": "44be8b4b-48dd-406a-e89d-056da3215499"
      },
      "execution_count": 3,
      "outputs": [
        {
          "output_type": "stream",
          "name": "stderr",
          "text": [
            "[nltk_data] Downloading package stopwords to /root/nltk_data...\n",
            "[nltk_data]   Unzipping corpora/stopwords.zip.\n"
          ]
        },
        {
          "output_type": "execute_result",
          "data": {
            "text/plain": [
              "True"
            ]
          },
          "metadata": {},
          "execution_count": 3
        }
      ]
    },
    {
      "cell_type": "code",
      "source": [
        "# create set of english stop words\n",
        "stop_words = set(stopwords.words('english'))\n",
        "print(stop_words)"
      ],
      "metadata": {
        "colab": {
          "base_uri": "https://localhost:8080/"
        },
        "id": "OsUOZrsm9Ual",
        "outputId": "bd6acb2d-a9d9-471e-a0a3-1a688d7971da"
      },
      "execution_count": 5,
      "outputs": [
        {
          "output_type": "stream",
          "name": "stdout",
          "text": [
            "{'whom', 'her', 've', 'through', 'between', 'out', 'themselves', 'shouldn', 'while', 're', 'she', 'again', 'of', 'yourselves', 'i', 'against', 'more', 'its', 'o', \"aren't\", 'and', 'above', 'shan', 'you', 'were', \"that'll\", 'from', 'by', 'what', 'below', 'other', 'will', 'when', 'during', 'nor', \"it's\", 'we', \"isn't\", 'it', 'down', \"wouldn't\", 'been', 'his', 'wasn', 'them', 'theirs', 'have', \"you'll\", 'then', 'can', 'on', 'if', 'up', 'me', 't', 'under', 'herself', 'ourselves', 'ain', 'yours', 'hadn', 'itself', 'over', 'aren', 'now', 'wouldn', 'where', 'haven', 'ours', 'was', \"you're\", 'few', \"didn't\", 'as', 'mightn', \"hadn't\", 'into', 'yourself', 'with', 'than', \"don't\", 'after', 'll', 'those', 'the', 'an', 'has', 'no', \"you've\", 'why', \"hasn't\", 'for', 'off', 'just', 'which', 'am', 'how', 'own', 'such', 'about', 's', 'here', 'isn', 'should', 'to', 'further', 'don', 'our', 'these', 'doing', 'only', 'him', 'hasn', 'they', 'same', 'didn', 'my', \"she's\", 'this', 'd', 'are', 'm', 'did', 'y', 'hers', 'is', 'won', 'too', \"needn't\", \"doesn't\", 'at', 'myself', 'very', 'does', 'be', 'couldn', 'but', 'do', 'ma', 'having', 'so', 'a', 'before', 'needn', 'once', 'in', 'he', 'their', 'doesn', 'mustn', 'all', \"won't\", \"couldn't\", 'both', \"weren't\", 'that', \"mightn't\", \"should've\", 'any', 'some', 'had', 'or', 'there', 'each', \"mustn't\", 'being', \"shan't\", \"wasn't\", \"you'd\", 'himself', 'who', \"shouldn't\", 'not', \"haven't\", 'because', 'most', 'weren', 'your', 'until'}\n"
          ]
        }
      ]
    },
    {
      "cell_type": "code",
      "source": [
        "nltk.download('punkt')"
      ],
      "metadata": {
        "colab": {
          "base_uri": "https://localhost:8080/"
        },
        "id": "jFODsNf092bF",
        "outputId": "612b5669-fb77-47b5-bf75-891e0e67a028"
      },
      "execution_count": 6,
      "outputs": [
        {
          "output_type": "stream",
          "name": "stderr",
          "text": [
            "[nltk_data] Downloading package punkt to /root/nltk_data...\n",
            "[nltk_data]   Unzipping tokenizers/punkt.zip.\n"
          ]
        },
        {
          "output_type": "execute_result",
          "data": {
            "text/plain": [
              "True"
            ]
          },
          "metadata": {},
          "execution_count": 6
        }
      ]
    },
    {
      "cell_type": "code",
      "source": [
        "# tokenize words\n",
        "word_tokenize= word_tokenize(dataset)"
      ],
      "metadata": {
        "id": "k0dAHvS0-MDk"
      },
      "execution_count": 9,
      "outputs": []
    },
    {
      "cell_type": "code",
      "source": [
        "# rename stop words from dataset\n",
        "filtered_sentences=[]\n",
        "\n",
        "for w in word_tokenize:\n",
        "  if w not in stop_words:\n",
        "    filtered_sentences.append(w)\n",
        "\n",
        "    print(filtered_sentences)"
      ],
      "metadata": {
        "colab": {
          "base_uri": "https://localhost:8080/"
        },
        "id": "s-88AIQl-w5M",
        "outputId": "359df584-cf4a-4734-e1e0-33fd74c15b79"
      },
      "execution_count": 11,
      "outputs": [
        {
          "output_type": "stream",
          "name": "stdout",
          "text": [
            "['hello']\n",
            "['hello', 'mr.sugandhar']\n",
            "['hello', 'mr.sugandhar', ',']\n",
            "['hello', 'mr.sugandhar', ',', 'today']\n",
            "['hello', 'mr.sugandhar', ',', 'today', '?']\n",
            "['hello', 'mr.sugandhar', ',', 'today', '?', 'wether']\n",
            "['hello', 'mr.sugandhar', ',', 'today', '?', 'wether', 'awwsome.the']\n",
            "['hello', 'mr.sugandhar', ',', 'today', '?', 'wether', 'awwsome.the', 'garden']\n",
            "['hello', 'mr.sugandhar', ',', 'today', '?', 'wether', 'awwsome.the', 'garden', 'green']\n",
            "['hello', 'mr.sugandhar', ',', 'today', '?', 'wether', 'awwsome.the', 'garden', 'green', 'weshould']\n",
            "['hello', 'mr.sugandhar', ',', 'today', '?', 'wether', 'awwsome.the', 'garden', 'green', 'weshould', 'go']\n",
            "['hello', 'mr.sugandhar', ',', 'today', '?', 'wether', 'awwsome.the', 'garden', 'green', 'weshould', 'go', 'walk']\n",
            "['hello', 'mr.sugandhar', ',', 'today', '?', 'wether', 'awwsome.the', 'garden', 'green', 'weshould', 'go', 'walk', '.']\n"
          ]
        }
      ]
    },
    {
      "cell_type": "markdown",
      "source": [
        "Hello Mr. Watson, how are you doing today? The weather is awesome. The garden is Green. We should go out for a walk.\"\"\""
      ],
      "metadata": {
        "id": "tUgdnG4O_oPi"
      }
    }
  ]
}